{
 "cells": [
  {
   "cell_type": "markdown",
   "id": "ab29895f",
   "metadata": {},
   "source": [
    "# Group by in pandas"
   ]
  },
  {
   "cell_type": "code",
   "execution_count": 1,
   "id": "dc9ae3e9",
   "metadata": {},
   "outputs": [],
   "source": [
    "import pandas as pd"
   ]
  },
  {
   "cell_type": "code",
   "execution_count": 3,
   "id": "29e04ed6",
   "metadata": {},
   "outputs": [
    {
     "data": {
      "text/html": [
       "<div>\n",
       "<style scoped>\n",
       "    .dataframe tbody tr th:only-of-type {\n",
       "        vertical-align: middle;\n",
       "    }\n",
       "\n",
       "    .dataframe tbody tr th {\n",
       "        vertical-align: top;\n",
       "    }\n",
       "\n",
       "    .dataframe thead th {\n",
       "        text-align: right;\n",
       "    }\n",
       "</style>\n",
       "<table border=\"1\" class=\"dataframe\">\n",
       "  <thead>\n",
       "    <tr style=\"text-align: right;\">\n",
       "      <th></th>\n",
       "      <th>name</th>\n",
       "      <th>subject1</th>\n",
       "      <th>subject2</th>\n",
       "    </tr>\n",
       "  </thead>\n",
       "  <tbody>\n",
       "    <tr>\n",
       "      <th>0</th>\n",
       "      <td>a</td>\n",
       "      <td>12</td>\n",
       "      <td>23</td>\n",
       "    </tr>\n",
       "    <tr>\n",
       "      <th>1</th>\n",
       "      <td>b</td>\n",
       "      <td>13</td>\n",
       "      <td>24</td>\n",
       "    </tr>\n",
       "    <tr>\n",
       "      <th>2</th>\n",
       "      <td>c</td>\n",
       "      <td>14</td>\n",
       "      <td>25</td>\n",
       "    </tr>\n",
       "    <tr>\n",
       "      <th>3</th>\n",
       "      <td>d</td>\n",
       "      <td>12</td>\n",
       "      <td>26</td>\n",
       "    </tr>\n",
       "    <tr>\n",
       "      <th>4</th>\n",
       "      <td>a</td>\n",
       "      <td>13</td>\n",
       "      <td>27</td>\n",
       "    </tr>\n",
       "    <tr>\n",
       "      <th>5</th>\n",
       "      <td>b</td>\n",
       "      <td>14</td>\n",
       "      <td>28</td>\n",
       "    </tr>\n",
       "    <tr>\n",
       "      <th>6</th>\n",
       "      <td>a</td>\n",
       "      <td>15</td>\n",
       "      <td>29</td>\n",
       "    </tr>\n",
       "    <tr>\n",
       "      <th>7</th>\n",
       "      <td>b</td>\n",
       "      <td>23</td>\n",
       "      <td>30</td>\n",
       "    </tr>\n",
       "    <tr>\n",
       "      <th>8</th>\n",
       "      <td>a</td>\n",
       "      <td>25</td>\n",
       "      <td>25</td>\n",
       "    </tr>\n",
       "    <tr>\n",
       "      <th>9</th>\n",
       "      <td>c</td>\n",
       "      <td>16</td>\n",
       "      <td>34</td>\n",
       "    </tr>\n",
       "    <tr>\n",
       "      <th>10</th>\n",
       "      <td>c</td>\n",
       "      <td>10</td>\n",
       "      <td>35</td>\n",
       "    </tr>\n",
       "    <tr>\n",
       "      <th>11</th>\n",
       "      <td>d</td>\n",
       "      <td>11</td>\n",
       "      <td>26</td>\n",
       "    </tr>\n",
       "  </tbody>\n",
       "</table>\n",
       "</div>"
      ],
      "text/plain": [
       "   name  subject1  subject2\n",
       "0     a        12        23\n",
       "1     b        13        24\n",
       "2     c        14        25\n",
       "3     d        12        26\n",
       "4     a        13        27\n",
       "5     b        14        28\n",
       "6     a        15        29\n",
       "7     b        23        30\n",
       "8     a        25        25\n",
       "9     c        16        34\n",
       "10    c        10        35\n",
       "11    d        11        26"
      ]
     },
     "execution_count": 3,
     "metadata": {},
     "output_type": "execute_result"
    }
   ],
   "source": [
    "d = pd.DataFrame({\"name\":['a','b','c','d','a','b','a','b','a','c','c','d'],\"subject1\":[12,13,14,12,13,14,15,23,25,16,10,11],\"subject2\":[23,24,25,26,27,28,29,30,25,34,35,26]})\n",
    "d"
   ]
  },
  {
   "cell_type": "code",
   "execution_count": 5,
   "id": "55012991",
   "metadata": {},
   "outputs": [
    {
     "data": {
      "text/plain": [
       "<pandas.core.groupby.generic.DataFrameGroupBy object at 0x1339a4fd0>"
      ]
     },
     "execution_count": 5,
     "metadata": {},
     "output_type": "execute_result"
    }
   ],
   "source": [
    "d = pd.DataFrame({\"name\":['a','b','c','d','a','b','a','b','a','c','c','d'],\"subject1\":[12,13,14,12,13,14,15,23,25,16,10,11],\"subject2\":[23,24,25,26,27,28,29,30,25,34,35,26]})\n",
    "var_new = d.groupby(\"name\")#this will group by name for example a will be show, then b data will be show, then c ,then d,..so on\n",
    "\n",
    "var_new #it will show that groupby is done successfully "
   ]
  },
  {
   "cell_type": "code",
   "execution_count": 9,
   "id": "5a6ea199",
   "metadata": {},
   "outputs": [
    {
     "name": "stdout",
     "output_type": "stream",
     "text": [
      "a\n",
      "  name  subject1  subject2\n",
      "0    a        12        23\n",
      "4    a        13        27\n",
      "6    a        15        29\n",
      "8    a        25        25\n",
      "\n",
      "b\n",
      "  name  subject1  subject2\n",
      "1    b        13        24\n",
      "5    b        14        28\n",
      "7    b        23        30\n",
      "\n",
      "c\n",
      "   name  subject1  subject2\n",
      "2     c        14        25\n",
      "9     c        16        34\n",
      "10    c        10        35\n",
      "\n",
      "d\n",
      "   name  subject1  subject2\n",
      "3     d        12        26\n",
      "11    d        11        26\n",
      "\n"
     ]
    }
   ],
   "source": [
    "d = pd.DataFrame({\"name\":['a','b','c','d','a','b','a','b','a','c','c','d'],\"subject1\":[12,13,14,12,13,14,15,23,25,16,10,11],\"subject2\":[23,24,25,26,27,28,29,30,25,34,35,26]})\n",
    "var_new = d.groupby(\"name\") #this will group by name for example a will be show, then b data will be show, then c ,then d,..so on\n",
    "\n",
    "#to see groupby data successfully\n",
    "for x,y in var_new:\n",
    "    print(x)\n",
    "    print(y)\n",
    "    print()"
   ]
  },
  {
   "cell_type": "code",
   "execution_count": 13,
   "id": "07941e28",
   "metadata": {},
   "outputs": [
    {
     "data": {
      "text/html": [
       "<div>\n",
       "<style scoped>\n",
       "    .dataframe tbody tr th:only-of-type {\n",
       "        vertical-align: middle;\n",
       "    }\n",
       "\n",
       "    .dataframe tbody tr th {\n",
       "        vertical-align: top;\n",
       "    }\n",
       "\n",
       "    .dataframe thead th {\n",
       "        text-align: right;\n",
       "    }\n",
       "</style>\n",
       "<table border=\"1\" class=\"dataframe\">\n",
       "  <thead>\n",
       "    <tr style=\"text-align: right;\">\n",
       "      <th></th>\n",
       "      <th>name</th>\n",
       "      <th>subject1</th>\n",
       "      <th>subject2</th>\n",
       "    </tr>\n",
       "  </thead>\n",
       "  <tbody>\n",
       "    <tr>\n",
       "      <th>0</th>\n",
       "      <td>a</td>\n",
       "      <td>12</td>\n",
       "      <td>23</td>\n",
       "    </tr>\n",
       "    <tr>\n",
       "      <th>4</th>\n",
       "      <td>a</td>\n",
       "      <td>13</td>\n",
       "      <td>27</td>\n",
       "    </tr>\n",
       "    <tr>\n",
       "      <th>6</th>\n",
       "      <td>a</td>\n",
       "      <td>15</td>\n",
       "      <td>29</td>\n",
       "    </tr>\n",
       "    <tr>\n",
       "      <th>8</th>\n",
       "      <td>a</td>\n",
       "      <td>25</td>\n",
       "      <td>25</td>\n",
       "    </tr>\n",
       "  </tbody>\n",
       "</table>\n",
       "</div>"
      ],
      "text/plain": [
       "  name  subject1  subject2\n",
       "0    a        12        23\n",
       "4    a        13        27\n",
       "6    a        15        29\n",
       "8    a        25        25"
      ]
     },
     "execution_count": 13,
     "metadata": {},
     "output_type": "execute_result"
    }
   ],
   "source": [
    "#to fatch only data starts with particular name \n",
    "d = pd.DataFrame({\"name\":['a','b','c','d','a','b','a','b','a','c','c','d'],\"subject1\":[12,13,14,12,13,14,15,23,25,16,10,11],\"subject2\":[23,24,25,26,27,28,29,30,25,34,35,26]})\n",
    "var_new = d.groupby(\"name\") #this will group by name for example a will be show, then b data will be show, then c ,then d,..so on\n",
    "#to see groupby data successfully\n",
    "\n",
    "var_new.get_group('a') #to fatch only data with a\n"
   ]
  },
  {
   "cell_type": "code",
   "execution_count": 15,
   "id": "13753b3b",
   "metadata": {},
   "outputs": [
    {
     "data": {
      "text/html": [
       "<div>\n",
       "<style scoped>\n",
       "    .dataframe tbody tr th:only-of-type {\n",
       "        vertical-align: middle;\n",
       "    }\n",
       "\n",
       "    .dataframe tbody tr th {\n",
       "        vertical-align: top;\n",
       "    }\n",
       "\n",
       "    .dataframe thead th {\n",
       "        text-align: right;\n",
       "    }\n",
       "</style>\n",
       "<table border=\"1\" class=\"dataframe\">\n",
       "  <thead>\n",
       "    <tr style=\"text-align: right;\">\n",
       "      <th></th>\n",
       "      <th>subject1</th>\n",
       "      <th>subject2</th>\n",
       "    </tr>\n",
       "    <tr>\n",
       "      <th>name</th>\n",
       "      <th></th>\n",
       "      <th></th>\n",
       "    </tr>\n",
       "  </thead>\n",
       "  <tbody>\n",
       "    <tr>\n",
       "      <th>a</th>\n",
       "      <td>12</td>\n",
       "      <td>23</td>\n",
       "    </tr>\n",
       "    <tr>\n",
       "      <th>b</th>\n",
       "      <td>13</td>\n",
       "      <td>24</td>\n",
       "    </tr>\n",
       "    <tr>\n",
       "      <th>c</th>\n",
       "      <td>10</td>\n",
       "      <td>25</td>\n",
       "    </tr>\n",
       "    <tr>\n",
       "      <th>d</th>\n",
       "      <td>11</td>\n",
       "      <td>26</td>\n",
       "    </tr>\n",
       "  </tbody>\n",
       "</table>\n",
       "</div>"
      ],
      "text/plain": [
       "      subject1  subject2\n",
       "name                    \n",
       "a           12        23\n",
       "b           13        24\n",
       "c           10        25\n",
       "d           11        26"
      ]
     },
     "execution_count": 15,
     "metadata": {},
     "output_type": "execute_result"
    }
   ],
   "source": [
    "d = pd.DataFrame({\"name\":['a','b','c','d','a','b','a','b','a','c','c','d'],\"subject1\":[12,13,14,12,13,14,15,23,25,16,10,11],\"subject2\":[23,24,25,26,27,28,29,30,25,34,35,26]})\n",
    "var_new = d.groupby(\"name\")\n",
    "var_new.min()   #it will show only minimun data of a ,b,c,d"
   ]
  },
  {
   "cell_type": "code",
   "execution_count": 16,
   "id": "a043b42d",
   "metadata": {},
   "outputs": [
    {
     "data": {
      "text/html": [
       "<div>\n",
       "<style scoped>\n",
       "    .dataframe tbody tr th:only-of-type {\n",
       "        vertical-align: middle;\n",
       "    }\n",
       "\n",
       "    .dataframe tbody tr th {\n",
       "        vertical-align: top;\n",
       "    }\n",
       "\n",
       "    .dataframe thead th {\n",
       "        text-align: right;\n",
       "    }\n",
       "</style>\n",
       "<table border=\"1\" class=\"dataframe\">\n",
       "  <thead>\n",
       "    <tr style=\"text-align: right;\">\n",
       "      <th></th>\n",
       "      <th>subject1</th>\n",
       "      <th>subject2</th>\n",
       "    </tr>\n",
       "    <tr>\n",
       "      <th>name</th>\n",
       "      <th></th>\n",
       "      <th></th>\n",
       "    </tr>\n",
       "  </thead>\n",
       "  <tbody>\n",
       "    <tr>\n",
       "      <th>a</th>\n",
       "      <td>25</td>\n",
       "      <td>29</td>\n",
       "    </tr>\n",
       "    <tr>\n",
       "      <th>b</th>\n",
       "      <td>23</td>\n",
       "      <td>30</td>\n",
       "    </tr>\n",
       "    <tr>\n",
       "      <th>c</th>\n",
       "      <td>16</td>\n",
       "      <td>35</td>\n",
       "    </tr>\n",
       "    <tr>\n",
       "      <th>d</th>\n",
       "      <td>12</td>\n",
       "      <td>26</td>\n",
       "    </tr>\n",
       "  </tbody>\n",
       "</table>\n",
       "</div>"
      ],
      "text/plain": [
       "      subject1  subject2\n",
       "name                    \n",
       "a           25        29\n",
       "b           23        30\n",
       "c           16        35\n",
       "d           12        26"
      ]
     },
     "execution_count": 16,
     "metadata": {},
     "output_type": "execute_result"
    }
   ],
   "source": [
    "d = pd.DataFrame({\"name\":['a','b','c','d','a','b','a','b','a','c','c','d'],\"subject1\":[12,13,14,12,13,14,15,23,25,16,10,11],\"subject2\":[23,24,25,26,27,28,29,30,25,34,35,26]})\n",
    "var_new = d.groupby(\"name\")\n",
    "var_new.max()   #it will show only maximun data of a ,b,c,d"
   ]
  },
  {
   "cell_type": "code",
   "execution_count": 17,
   "id": "e7d9752f",
   "metadata": {},
   "outputs": [
    {
     "data": {
      "text/html": [
       "<div>\n",
       "<style scoped>\n",
       "    .dataframe tbody tr th:only-of-type {\n",
       "        vertical-align: middle;\n",
       "    }\n",
       "\n",
       "    .dataframe tbody tr th {\n",
       "        vertical-align: top;\n",
       "    }\n",
       "\n",
       "    .dataframe thead th {\n",
       "        text-align: right;\n",
       "    }\n",
       "</style>\n",
       "<table border=\"1\" class=\"dataframe\">\n",
       "  <thead>\n",
       "    <tr style=\"text-align: right;\">\n",
       "      <th></th>\n",
       "      <th>subject1</th>\n",
       "      <th>subject2</th>\n",
       "    </tr>\n",
       "    <tr>\n",
       "      <th>name</th>\n",
       "      <th></th>\n",
       "      <th></th>\n",
       "    </tr>\n",
       "  </thead>\n",
       "  <tbody>\n",
       "    <tr>\n",
       "      <th>a</th>\n",
       "      <td>16.250000</td>\n",
       "      <td>26.000000</td>\n",
       "    </tr>\n",
       "    <tr>\n",
       "      <th>b</th>\n",
       "      <td>16.666667</td>\n",
       "      <td>27.333333</td>\n",
       "    </tr>\n",
       "    <tr>\n",
       "      <th>c</th>\n",
       "      <td>13.333333</td>\n",
       "      <td>31.333333</td>\n",
       "    </tr>\n",
       "    <tr>\n",
       "      <th>d</th>\n",
       "      <td>11.500000</td>\n",
       "      <td>26.000000</td>\n",
       "    </tr>\n",
       "  </tbody>\n",
       "</table>\n",
       "</div>"
      ],
      "text/plain": [
       "       subject1   subject2\n",
       "name                      \n",
       "a     16.250000  26.000000\n",
       "b     16.666667  27.333333\n",
       "c     13.333333  31.333333\n",
       "d     11.500000  26.000000"
      ]
     },
     "execution_count": 17,
     "metadata": {},
     "output_type": "execute_result"
    }
   ],
   "source": [
    "d = pd.DataFrame({\"name\":['a','b','c','d','a','b','a','b','a','c','c','d'],\"subject1\":[12,13,14,12,13,14,15,23,25,16,10,11],\"subject2\":[23,24,25,26,27,28,29,30,25,34,35,26]})\n",
    "var_new = d.groupby(\"name\")\n",
    "var_new.mean()   #it will count and then show mean data of a ,b,c,d"
   ]
  },
  {
   "cell_type": "code",
   "execution_count": 21,
   "id": "c5847669",
   "metadata": {},
   "outputs": [
    {
     "data": {
      "text/plain": [
       "[('a',\n",
       "    name  subject1  subject2\n",
       "  0    a        12        23\n",
       "  4    a        13        27\n",
       "  6    a        15        29\n",
       "  8    a        25        25),\n",
       " ('b',\n",
       "    name  subject1  subject2\n",
       "  1    b        13        24\n",
       "  5    b        14        28\n",
       "  7    b        23        30),\n",
       " ('c',\n",
       "     name  subject1  subject2\n",
       "  2     c        14        25\n",
       "  9     c        16        34\n",
       "  10    c        10        35),\n",
       " ('d',\n",
       "     name  subject1  subject2\n",
       "  3     d        12        26\n",
       "  11    d        11        26)]"
      ]
     },
     "execution_count": 21,
     "metadata": {},
     "output_type": "execute_result"
    }
   ],
   "source": [
    "#to convert dataframe to list\n",
    "d = pd.DataFrame({\"name\":['a','b','c','d','a','b','a','b','a','c','c','d'],\"subject1\":[12,13,14,12,13,14,15,23,25,16,10,11],\"subject2\":[23,24,25,26,27,28,29,30,25,34,35,26]})\n",
    "var_new = d.groupby(\"name\")\n",
    "l = list(var_new)\n",
    "l"
   ]
  },
  {
   "cell_type": "code",
   "execution_count": null,
   "id": "6ba270ab",
   "metadata": {},
   "outputs": [],
   "source": []
  }
 ],
 "metadata": {
  "kernelspec": {
   "display_name": "Python 3 (ipykernel)",
   "language": "python",
   "name": "python3"
  },
  "language_info": {
   "codemirror_mode": {
    "name": "ipython",
    "version": 3
   },
   "file_extension": ".py",
   "mimetype": "text/x-python",
   "name": "python",
   "nbconvert_exporter": "python",
   "pygments_lexer": "ipython3",
   "version": "3.11.5"
  }
 },
 "nbformat": 4,
 "nbformat_minor": 5
}
